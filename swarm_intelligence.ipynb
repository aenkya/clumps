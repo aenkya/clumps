{
  "nbformat": 4,
  "nbformat_minor": 0,
  "metadata": {
    "colab": {
      "provenance": [],
      "authorship_tag": "ABX9TyOYFXBTzm4lQy9rIdsKpqfu",
      "include_colab_link": true
    },
    "kernelspec": {
      "name": "python3",
      "display_name": "Python 3"
    },
    "language_info": {
      "name": "python"
    }
  },
  "cells": [
    {
      "cell_type": "markdown",
      "metadata": {
        "id": "view-in-github",
        "colab_type": "text"
      },
      "source": [
        "<a href=\"https://colab.research.google.com/github/aenkya/clumps/blob/main/swarm_intelligence.ipynb\" target=\"_parent\"><img src=\"https://colab.research.google.com/assets/colab-badge.svg\" alt=\"Open In Colab\"/></a>"
      ]
    },
    {
      "cell_type": "code",
      "execution_count": 1,
      "metadata": {
        "id": "MikMvAhP1rwy"
      },
      "outputs": [],
      "source": [
        "import numpy as np\n",
        "import matplotlib.pyplot as plt\n",
        "from sklearn import datasets\n",
        "from sklearn.model_selection import train_test_split\n",
        "from sklearn.svm import SVC\n",
        "from sklearn.metrics import accuracy_score\n",
        "\n",
        "# --- Dataset ---\n",
        "X, y = datasets.load_iris(return_X_y=True)\n",
        "X_train, X_test, y_train, y_test = train_test_split(X, y, test_size=0.2, random_state=42)"
      ]
    },
    {
      "cell_type": "code",
      "source": [
        "def fitness_function(params):\n",
        "    C, gamma = params\n",
        "    model = SVC(C=C, gamma=gamma)\n",
        "    model.fit(X_train, y_train)\n",
        "    preds = model.predict(X_test)\n",
        "    return 1 - accuracy_score(y_test, preds)  # minimize error"
      ],
      "metadata": {
        "id": "v5V_kCUe11fo"
      },
      "execution_count": 2,
      "outputs": []
    },
    {
      "cell_type": "code",
      "source": [
        "\n",
        "num_particles = 15\n",
        "num_dimensions = 2  # C, gamma\n",
        "max_iter = 20\n",
        "bounds = [(0.1, 100), (0.0001, 1)]\n",
        "\n",
        "positions = np.random.uniform([b[0] for b in bounds], [b[1] for b in bounds],\n",
        "                               size=(num_particles, num_dimensions))\n",
        "velocities = np.zeros((num_particles, num_dimensions))\n",
        "\n",
        "pbest_positions = np.copy(positions)\n",
        "pbest_scores = np.array([fitness_function(p) for p in positions])\n",
        "\n",
        "gbest_index = np.argmin(pbest_scores)\n",
        "gbest_position = pbest_positions[gbest_index]\n",
        "gbest_score = pbest_scores[gbest_index]"
      ],
      "metadata": {
        "id": "bJVerfbR1_vn"
      },
      "execution_count": 3,
      "outputs": []
    },
    {
      "cell_type": "code",
      "source": [
        "plt.ion()\n",
        "fig, ax = plt.subplots()\n",
        "ax.set_xlim(bounds[0][0], bounds[0][1])\n",
        "ax.set_ylim(bounds[1][0], bounds[1][1])\n",
        "ax.set_xlabel(\"C\")\n",
        "ax.set_ylabel(\"gamma\")\n",
        "ax.set_title(\"PSO Swarm Movement\")\n",
        "\n",
        "# --- PSO Loop ---\n",
        "w, c1, c2 = 0.5, 1.5, 1.5\n",
        "for iteration in range(max_iter):\n",
        "    ax.clear()\n",
        "    ax.set_xlim(bounds[0][0], bounds[0][1])\n",
        "    ax.set_ylim(bounds[1][0], bounds[1][1])\n",
        "    ax.set_xlabel(\"C\")\n",
        "    ax.set_ylabel(\"gamma\")\n",
        "    ax.set_title(f\"Iteration {iteration+1}/{max_iter} - Best Acc: {1 - gbest_score:.4f}\")\n",
        "\n",
        "    for i in range(num_particles):\n",
        "        r1, r2 = np.random.rand(2)\n",
        "        velocities[i] = (w * velocities[i]\n",
        "                         + c1 * r1 * (pbest_positions[i] - positions[i])\n",
        "                         + c2 * r2 * (gbest_position - positions[i]))\n",
        "        positions[i] += velocities[i]\n",
        "        positions[i] = np.clip(positions[i],\n",
        "                               [b[0] for b in bounds],\n",
        "                               [b[1] for b in bounds])\n",
        "        score = fitness_function(positions[i])\n",
        "\n",
        "        if score < pbest_scores[i]:\n",
        "            pbest_scores[i] = score\n",
        "            pbest_positions[i] = positions[i]\n",
        "        if score < gbest_score:\n",
        "            gbest_score = score\n",
        "            gbest_position = positions[i]\n",
        "\n",
        "    # Plot particles and global best\n",
        "    ax.scatter(positions[:, 0], positions[:, 1], color=\"blue\", label=\"Particles\")\n",
        "    ax.scatter(gbest_position[0], gbest_position[1], color=\"red\", marker=\"*\", s=200, label=\"Best\")\n",
        "    ax.legend(loc=\"upper right\")\n",
        "\n",
        "    plt.pause(0.3)\n",
        "\n",
        "plt.ioff()\n",
        "plt.show()\n",
        "\n",
        "print(\"\\nBest Hyperparameters found:\")\n",
        "print(f\"C = {gbest_position[0]:.4f}, gamma = {gbest_position[1]:.4f}\")\n",
        "print(f\"Test Accuracy = {1 - gbest_score:.4f}\")"
      ],
      "metadata": {
        "colab": {
          "base_uri": "https://localhost:8080/",
          "height": 541
        },
        "id": "YC8o8gOa2HWr",
        "outputId": "a4da0a8f-aa32-4c53-8877-540a0d39917c"
      },
      "execution_count": 4,
      "outputs": [
        {
          "output_type": "display_data",
          "data": {
            "text/plain": [
              "<Figure size 640x480 with 1 Axes>"
            ],
            "image/png": "[encoded data removed]"
          },
          "metadata": {}
        },
        {
          "output_type": "stream",
          "name": "stdout",
          "text": [
            "\n",
            "Best Hyperparameters found:\n",
            "C = 12.8241, gamma = 0.6483\n",
            "Test Accuracy = 1.0000\n"
          ]
        }
      ]
    }
  ]
}